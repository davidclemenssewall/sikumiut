{
 "cells": [
  {
   "cell_type": "markdown",
   "metadata": {
    "tags": []
   },
   "source": [
    "# Exercise 2\n",
    "# Exploring hypothesis testing - Snow Grain Radius\n",
    "\n",
    "* **Description**: Reads in netcdf files of CESM2-LE total ice area, snow grain radius experiments, and makes plots\n",
    "* **Creator**: Alice DuVivier\n",
    "* **Date**: March 2025"
   ]
  },
  {
   "cell_type": "markdown",
   "metadata": {},
   "source": [
    "## Background"
   ]
  },
  {
   "attachments": {},
   "cell_type": "markdown",
   "metadata": {},
   "source": [
    "The CESM2-LE (Rodgers et al. 2021) is a similar set of ensembles as the CESM1-LE an experiment we just explored. The 50-member ensemble uses 1850-2014 historical radiative forcing and 2015-2100 SSP370 radiative forcing. Ensemble spread is generated in two ways: \n",
    "1) Micro-perturbations are generated in some ensembles by using round-off differences ($10^{-14}$K) in the initial atmospheric temperature field (this is the same as CESM1-LE).\n",
    "2) Macro-perturbations are generated in other ensembles by using a different ice/ocean initial state in 1850.\n",
    "\n",
    "We want to test how sensitive the sea ice is to changing the dry snow grain radius on top of snow. In these experiments, we use the CESM2-LE code base and SSP forcing, but we have changed the 'r_snw' parameter in CICE. 'r_snw' is the initial radius for dry snow on sea ice. As snow melts, the snow grain radius generally increases, and as this happens the albedo of the snow on the sea ice decreases. \n",
    "\n",
    "In these experiments we have increased the 'r_snw' parameter from 1.25 to 1.5 standard deviations. The r_snw parameter change decreases the dry snow grain radius from 187.5 to 125 μm compared to the standard CESM2-LE. In addition, we changed the dt_mlt parameter such that the melt onset temperature increases by 0.5°C from −1.5 to −1.0°C. This melt onset temperature determines when the snow grain radius starts to grow from a dry snow value to a melting snow value. (Kay et al. 2022)\n",
    "\n",
    "- Kay et al. 2022. “Less Surface Sea Ice Melt in the CESM2 Improves Arctic Sea Ice Simulation With Minimal Non‐Polar Climate Impacts.” https://doi.org/10.1029/2021MS002679\n",
    "- Rodgers et al. 2021. “Ubiquity of human-induced changes in climate variability.\"  https://doi.org/10.5194/esd-12-1393-2021\r\n"
   ]
  },
  {
   "cell_type": "code",
   "execution_count": null,
   "metadata": {},
   "outputs": [],
   "source": [
    "# Load packages we'll need\n",
    "import xarray as xr\n",
    "import numpy as np\n",
    "import pandas as pd\n",
    "import matplotlib.pyplot as plt"
   ]
  },
  {
   "cell_type": "markdown",
   "metadata": {},
   "source": [
    "# Load and manipulate all the data"
   ]
  },
  {
   "cell_type": "code",
   "execution_count": null,
   "metadata": {},
   "outputs": [],
   "source": [
    "# set data directory\n",
    "data_dir = 'data/'"
   ]
  },
  {
   "cell_type": "markdown",
   "metadata": {},
   "source": [
    "## Load and subset CESM2-LE data\n",
    "- Keep just September data"
   ]
  },
  {
   "cell_type": "code",
   "execution_count": null,
   "metadata": {},
   "outputs": [],
   "source": [
    "# Set the data to input\n",
    "fin = 'LE2_aicetot_nh_1870-2100.nc'\n",
    "\n",
    "# read in the data\n",
    "ds1 = xr.open_dataset(data_dir + fin)"
   ]
  },
  {
   "cell_type": "code",
   "execution_count": null,
   "metadata": {},
   "outputs": [],
   "source": [
    "# keep only September data (note that indexing starts at 0, so September is month 8)\n",
    "# Note: you MUST uncomment and set a value for the month value, below\n",
    "\n",
    "#mm = \n",
    "data1 = ds1.aice_monthly.isel(nmonth=mm)"
   ]
  },
  {
   "cell_type": "code",
   "execution_count": null,
   "metadata": {},
   "outputs": [],
   "source": [
    "# convert data from m^2 to km^2\n",
    "data1 = data1/(1000.0 * 1000.0)"
   ]
  },
  {
   "cell_type": "code",
   "execution_count": null,
   "metadata": {},
   "outputs": [],
   "source": [
    "# create an array of years for this data\n",
    "years_data1 = np.arange(1870,2101,1)"
   ]
  },
  {
   "cell_type": "code",
   "execution_count": null,
   "metadata": {},
   "outputs": [],
   "source": [
    "# look at data\n",
    "data1"
   ]
  },
  {
   "cell_type": "markdown",
   "metadata": {},
   "source": [
    "### Questions:\n",
    "- How many years of data do we have?\n",
    "- How many ensemble members are there?"
   ]
  },
  {
   "cell_type": "markdown",
   "metadata": {},
   "source": [
    "## Load and subset CESM2 Snow grain radius experiments\n",
    "- Keep just September data\n",
    "- Data is already in km^2, so no conversion is needed"
   ]
  },
  {
   "cell_type": "code",
   "execution_count": null,
   "metadata": {},
   "outputs": [],
   "source": [
    "# Set the data to input\n",
    "fin = 'LESSMELT_aicetot_nh_1920-2100.nc'\n",
    "\n",
    "# read in the data\n",
    "ds2 = xr.open_dataset(data_dir + fin)"
   ]
  },
  {
   "cell_type": "code",
   "execution_count": null,
   "metadata": {},
   "outputs": [],
   "source": [
    "# keep only September data (note that it's not yet broken into months, so we filter data differently and use index 9 for September)\n",
    "# Note: you MUST uncomment and set a value for the month value, below\n",
    "\n",
    "#mm = \n",
    "data2 = ds2.aice_monthly.sel(time=ds2.time.dt.month.isin(mm))"
   ]
  },
  {
   "cell_type": "code",
   "execution_count": null,
   "metadata": {},
   "outputs": [],
   "source": [
    "# get an array of years for this data\n",
    "years_data2 = data2.time.dt.year.values"
   ]
  },
  {
   "cell_type": "code",
   "execution_count": null,
   "metadata": {},
   "outputs": [],
   "source": [
    "# look at data\n",
    "data2"
   ]
  },
  {
   "cell_type": "markdown",
   "metadata": {},
   "source": [
    "### Questions:\n",
    "- How many years of data do we have?\n",
    "- How many ensemble members are there?\n",
    "- Why do you think there are less of both of these? (Hint: how expensive it is to run an ESM?)"
   ]
  },
  {
   "attachments": {},
   "cell_type": "markdown",
   "metadata": {},
   "source": [
    "# Exercise 1\n",
    "\n",
    "- Activity: Plot the ensemble means and standard deviations for CESM2-LE"
   ]
  },
  {
   "cell_type": "code",
   "execution_count": null,
   "metadata": {},
   "outputs": [],
   "source": [
    "# calculate CESM2-LE ensemble mean and standard deviation\n",
    "data1_mean = data1.mean(dim='n_members')\n",
    "data1_std = data1.std(dim='n_members')\n",
    "\n",
    "# get the total number of ensemble members \n",
    "n_ens_1 = len(data1.n_members)"
   ]
  },
  {
   "cell_type": "code",
   "execution_count": null,
   "metadata": {},
   "outputs": [],
   "source": [
    "# create figure\n",
    "fig = plt.figure(figsize=(20,10))\n",
    "\n",
    "###\n",
    "# plot all CESM2-LE model data\n",
    "###\n",
    "ii=0\n",
    "for ii in range(n_ens_1):\n",
    "    plt.plot(years_data1,data1[ii,:],color=\"lightgrey\",linestyle='-',linewidth=1,label='_nolegend_');\n",
    "# overlay first ensemble member to get it on the legend\n",
    "plt.plot(years_data1,data1.isel(n_members=0),label='CESM2-LE Ensembles',color='lightgrey',linewidth=1)\n",
    "# overlay the ensemble mean and +/-1 standard deviations\n",
    "plt.plot(years_data1,data1_mean,label='CESM2-LE Ens_mean',color='black',linestyle='-',linewidth=3)\n",
    "plt.plot(years_data1,data1_mean+data1_std,label='+1std',color='black',linestyle=':',linewidth=2)\n",
    "plt.plot(years_data1,data1_mean-data1_std,label='-1std',color='black',linestyle=':',linewidth=2)\n",
    "\n",
    "# make nicer axes\n",
    "plt.title('September Total Arctic Sea Ice Area',fontsize=15)\n",
    "plt.xlabel('year',fontsize=15)\n",
    "plt.xticks(fontsize=15)\n",
    "plt.xlim([1870,2100])\n",
    "plt.ylabel('km^2',fontsize=15)\n",
    "plt.yticks(fontsize=15)\n",
    "plt.legend(loc='lower left', fontsize=15, ncol=1);"
   ]
  },
  {
   "cell_type": "markdown",
   "metadata": {},
   "source": [
    "### Questions:\n",
    "- How does this compare to the CESM1-LE we previously examined? Is it similar to what you expect?\n",
    "- Is there anything that looks weird in this timeseries?"
   ]
  },
  {
   "attachments": {},
   "cell_type": "markdown",
   "metadata": {},
   "source": [
    "# Exercise 2\n",
    "- Activity: Plot the ensemble means and standard deviations for CESM2-LE and the experiment"
   ]
  },
  {
   "cell_type": "code",
   "execution_count": null,
   "metadata": {},
   "outputs": [],
   "source": [
    "# calculate ensemble mean and standard deviation\n",
    "data2_mean = data2.mean(dim='member_id')\n",
    "data2_std = data2.std(dim='member_id')\n",
    "\n",
    "# get the total number of ensemble members \n",
    "n_ens_2 = len(data2.member_id)"
   ]
  },
  {
   "cell_type": "code",
   "execution_count": null,
   "metadata": {},
   "outputs": [],
   "source": [
    "# create figure\n",
    "fig = plt.figure(figsize=(20,10))\n",
    "\n",
    "###\n",
    "# plot all CESM2-LE model data\n",
    "###\n",
    "ii=0\n",
    "for ii in range(n_ens_1):\n",
    "    plt.plot(years_data1,data1[ii,:],color=\"lightgrey\",linestyle='-',linewidth=1,label='_nolegend_');\n",
    "# overlay first ensemble member to get it on the legend\n",
    "plt.plot(years_data1,data1.isel(n_members=0),label='CESM2-LE Ensembles',color='lightgrey',linewidth=1)\n",
    "# overlay the ensemble mean and +/-1 standard deviations\n",
    "plt.plot(years_data1,data1_mean,label='CESM2-LE Ens_mean',color='black',linestyle='-',linewidth=3)\n",
    "plt.plot(years_data1,data1_mean+data1_std,label='+1std',color='black',linestyle=':',linewidth=2)\n",
    "plt.plot(years_data1,data1_mean-data1_std,label='-1std',color='black',linestyle=':',linewidth=2)\n",
    "###\n",
    "# plot all experimental model data\n",
    "###\n",
    "ii=0\n",
    "for ii in range(n_ens_2):\n",
    "    plt.plot(years_data2,data2[ii,:],color=\"salmon\",linestyle='-',linewidth=1,label='_nolegend_');\n",
    "# overlay first ensemble member to get it on the legend\n",
    "plt.plot(years_data2,data2.isel(member_id=0),label='Expt Ensembles',color='salmon',linewidth=1)\n",
    "# overlay the ensemble mean and +/-1 standard deviations\n",
    "plt.plot(years_data2,data2_mean,label='Expt Ens_mean',color='firebrick',linestyle='-',linewidth=3)\n",
    "plt.plot(years_data2,data2_mean+data2_std,label='+1std',color='firebrick',linestyle=':',linewidth=2)\n",
    "plt.plot(years_data2,data2_mean-data2_std,label='-1std',color='firebrick',linestyle=':',linewidth=2)\n",
    "\n",
    "# make nicer axes\n",
    "plt.title('September Total Arctic Sea Ice Area',fontsize=15)\n",
    "plt.xlabel('year',fontsize=15)\n",
    "plt.xticks(fontsize=15)\n",
    "plt.xlim([1870,2100])\n",
    "plt.ylabel('km^2',fontsize=15)\n",
    "plt.yticks(fontsize=15)\n",
    "plt.legend(loc='lower left', fontsize=15, ncol=2);"
   ]
  },
  {
   "attachments": {},
   "cell_type": "markdown",
   "metadata": {},
   "source": [
    "## Exercise 3\n",
    "\n",
    "- Now, zoom in on the previous figure years"
   ]
  },
  {
   "cell_type": "code",
   "execution_count": null,
   "metadata": {},
   "outputs": [],
   "source": [
    "# create figure\n",
    "fig = plt.figure(figsize=(20,10))\n",
    "\n",
    "###\n",
    "# plot all CESM2-LE model data\n",
    "###\n",
    "ii=0\n",
    "for ii in range(n_ens_1):\n",
    "    plt.plot(years_data1,data1[ii,:],color=\"lightgrey\",linestyle='-',linewidth=1,label='_nolegend_');\n",
    "# overlay first ensemble member to get it on the legend\n",
    "plt.plot(years_data1,data1.isel(n_members=0),label='CESM2-LE Ensembles',color='lightgrey',linewidth=1)\n",
    "# overlay the ensemble mean and +/-1 standard deviations\n",
    "plt.plot(years_data1,data1_mean,label='CESM2-LE Ens_mean',color='black',linestyle='-',linewidth=3)\n",
    "plt.plot(years_data1,data1_mean+data1_std,label='+1std',color='black',linestyle=':',linewidth=2)\n",
    "plt.plot(years_data1,data1_mean-data1_std,label='-1std',color='black',linestyle=':',linewidth=2)\n",
    "###\n",
    "# plot all experimental model data\n",
    "###\n",
    "ii=0\n",
    "for ii in range(n_ens_2):\n",
    "    plt.plot(years_data2,data2[ii,:],color=\"salmon\",linestyle='-',linewidth=1,label='_nolegend_');\n",
    "# overlay first ensemble member to get it on the legend\n",
    "plt.plot(years_data2,data2.isel(member_id=0),label='Expt Ensembles',color='salmon',linewidth=1)\n",
    "# overlay the ensemble mean and +/-1 standard deviations\n",
    "plt.plot(years_data2,data2_mean,label='Expt Ens_mean',color='firebrick',linestyle='-',linewidth=3)\n",
    "plt.plot(years_data2,data2_mean+data2_std,label='+1std',color='firebrick',linestyle=':',linewidth=2)\n",
    "plt.plot(years_data2,data2_mean-data2_std,label='-1std',color='firebrick',linestyle=':',linewidth=2)\n",
    "\n",
    "# make nicer axes\n",
    "plt.title('September Total Arctic Sea Ice Area',fontsize=15)\n",
    "plt.xlabel('year',fontsize=15)\n",
    "plt.xticks(fontsize=15)\n",
    "plt.xlim([1920,2100])\n",
    "plt.ylabel('km^2',fontsize=15)\n",
    "plt.yticks(fontsize=15)\n",
    "plt.legend(loc='upper right', fontsize=15, ncol=2);"
   ]
  },
  {
   "cell_type": "markdown",
   "metadata": {},
   "source": [
    "### Questions:\n",
    "- How does the experiment look different than the CESM2-LE? (Mean state and trends)\n",
    "- Do you think that changing the snow grain radius and melt onset temperature lead to statistically significant changes in total sea ice area?\n",
    "- Do you think that there are enough of the experimental ensembles to be certain of your conclusions?\n",
    "- Are there other aspects of the sea ice state or Earth system you think would be interesting to investigate in these experiments? (e.g. sea ice thickness, sea surface temperature, cloud cover, etc.)"
   ]
  },
  {
   "cell_type": "code",
   "execution_count": null,
   "metadata": {},
   "outputs": [],
   "source": []
  }
 ],
 "metadata": {
  "kernelspec": {
   "display_name": "NPL 2025a",
   "language": "python",
   "name": "npl-2025a"
  },
  "language_info": {
   "codemirror_mode": {
    "name": "ipython",
    "version": 3
   },
   "file_extension": ".py",
   "mimetype": "text/x-python",
   "name": "python",
   "nbconvert_exporter": "python",
   "pygments_lexer": "ipython3",
   "version": "3.12.8"
  }
 },
 "nbformat": 4,
 "nbformat_minor": 4
}
