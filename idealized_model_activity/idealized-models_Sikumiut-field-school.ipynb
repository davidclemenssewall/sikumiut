{
 "cells": [
  {
   "cell_type": "code",
   "execution_count": null,
   "id": "fb394929-e2f6-4eea-bd8f-dc59e6f30c37",
   "metadata": {},
   "outputs": [],
   "source": [
    "import numpy as np\n",
    "import matplotlib.pyplot as plt\n",
    "import SCM_MEBM as scm_mebm\n",
    "import matplotlib as mpl"
   ]
  },
  {
   "cell_type": "code",
   "execution_count": null,
   "id": "7127a9df-dc06-4ca0-af2a-dbd1532fac97",
   "metadata": {},
   "outputs": [],
   "source": [
    "mpl.rcParams['axes.titlesize']        = 10  \n",
    "mpl.rcParams['legend.fontsize']       = 10  \n",
    "mpl.rcParams['legend.title_fontsize'] = 10  \n",
    "mpl.rcParams['xtick.labelsize']       = 10  \n",
    "mpl.rcParams['ytick.labelsize']       = 10  \n",
    "mpl.rcParams['axes.labelsize']        = 10 "
   ]
  },
  {
   "cell_type": "code",
   "execution_count": null,
   "id": "81db0aa0-eff1-4073-9716-1eab9b6fb177",
   "metadata": {},
   "outputs": [],
   "source": [
    "# --- set up grid and time-stepping ---\n",
    "\n",
    "n   = 120                           # number of grid points \n",
    "dx  = 2./n                          # width of grid box\n",
    "x   = np.linspace(-1+dx/2,1-dx/2,n) # native grid\n",
    "xb  = np.linspace(-1+dx,1-dx,n-1)   # boundaries of grid\n",
    "nt  = 1000                          # number of timesteps\n",
    "dur = 100                           # length of simulation in years\n",
    "dt  = 1./nt                         # timestep in years\n",
    "\n",
    "grid = {'n': n, 'dx': dx, 'x': x, 'xb': xb, 'nt': nt, 'dur': dur, 'dt': dt} \n",
    "\n",
    "Ti  = 7.5+20*(1-2*x**2)             # initial condition \n",
    "\n",
    "# --- run the SCM-MEBM ---\n",
    "\n",
    "time, Es, Ts, Hi, ASR = scm_mebm.model(grid, Ti, F = 0, sea_ice_albedo = 'on', sea_ice_thermodynamics = 'on')"
   ]
  },
  {
   "cell_type": "code",
   "execution_count": null,
   "id": "477fe7df-8f79-4133-b517-47136534c769",
   "metadata": {},
   "outputs": [],
   "source": [
    "# --- process model output ---\n",
    "\n",
    "# extract Northern Hemisphere output\n",
    "n_2   = int(n/2)+1                 # number of grid points in the Northern Hemisphere\n",
    "x_n   = x[-n_2:]                   # sine of latitude\n",
    "lat_n = np.rad2deg(np.arcsin(x_n)) # latitude\n",
    "Ts    = Ts[-n_2:,:]                # surface temperature \n",
    "Es    = Es[-n_2:,:]                # surface enthalpy\n",
    "Hi    = Hi[-n_2:,:]                # sea ice thickness\n",
    "\n",
    "# extract winter and summer seasons\n",
    "winter = np.argmin(np.mean(Ts, axis=0))\n",
    "summer = np.argmax(np.mean(Ts, axis=0))"
   ]
  },
  {
   "cell_type": "code",
   "execution_count": null,
   "id": "f05d87ac-2d88-4ea5-a81d-1effb2875500",
   "metadata": {},
   "outputs": [],
   "source": [
    "fig = plt.figure(figsize=(15,3))\n",
    "\n",
    "# plot seasonal surface temperature\n",
    "plt.subplot(141)\n",
    "plt.contourf(time,lat_n,Ts,np.linspace(-20,20,11),cmap='RdBu_r',extend='both')\n",
    "cb = plt.colorbar()\n",
    "cb.set_label('Surface temperature [ °C ]')\n",
    "plt.xlabel('Time')\n",
    "plt.ylabel('Latitude')\n",
    "plt.ylim(0,np.max(lat_n))\n",
    "plt.yticks([0,25,50,75],['0°','25°N','50°N','75°N'])\n",
    "\n",
    "# plot seasonal sea ice thickness\n",
    "plt.subplot(142)\n",
    "clevsh = np.linspace(0,2,11)\n",
    "plt.contourf(time,lat_n,Hi,clevsh,extend='max',cmap='Blues_r')\n",
    "cb = plt.colorbar()\n",
    "cb.set_label('Sea ice thickness [ m ]')\n",
    "# plot ice edge on h\n",
    "plt.contour(time,lat_n,Hi,[0],colors='k')\n",
    "plt.xlabel('Time')\n",
    "plt.ylabel('Latitude')\n",
    "plt.ylim(0,np.max(lat_n))\n",
    "plt.yticks([0,25,50,75],['0°','25°N','50°N','75°N'])\n",
    "\n",
    "# plot surface temperature profiles\n",
    "plt.subplot(143)\n",
    "Annual, = plt.plot(lat_n,np.nanmean(Ts[:,:],axis=1),'k',label='Annual')\n",
    "Summer, = plt.plot(lat_n,Ts[:,summer],'k--',label='Summer')\n",
    "Winter, = plt.plot(lat_n,Ts[:,winter],'k:',label='Winter')\n",
    "plt.xticks([0,25,50,75],['0°','25°N','50°N','75°N'])\n",
    "plt.xlim(0,np.max(lat_n))\n",
    "plt.ylim(-30,30)\n",
    "plt.yticks([-30,-15,0,15,30])\n",
    "plt.xlabel('Latitude')\n",
    "plt.ylabel('Surface temperature [ °C ]')\n",
    "plt.legend(handles = [Annual,Summer,Winter],loc=0)\n",
    "plt.grid()\n",
    "\n",
    "# plot sea ice thickness profiles\n",
    "plt.subplot(144)\n",
    "plt.plot(lat_n,np.nanmean(Hi[:,:],axis=1),'k',label='Annual')\n",
    "plt.plot(lat_n,Hi[:,summer],'k--')\n",
    "plt.plot(lat_n,Hi[:,winter],'k:')\n",
    "plt.ylim([0,16])\n",
    "plt.yticks([0,4,8,12,16])\n",
    "\n",
    "plt.xticks([45,60,75,90],['45°N','60°N','75°N','90°N'])\n",
    "plt.xlim(45,np.max(lat_n))\n",
    "plt.xlabel('Latitude')\n",
    "plt.ylabel('Sea ice thickness [ m ]')\n",
    "plt.grid()\n",
    "\n",
    "plt.rcParams.update({'font.size': 10})\n",
    "\n",
    "plt.tight_layout() "
   ]
  },
  {
   "cell_type": "code",
   "execution_count": null,
   "id": "5496c42c-e433-4f9e-bbd3-dd01b701fffe",
   "metadata": {},
   "outputs": [],
   "source": []
  }
 ],
 "metadata": {
  "kernelspec": {
   "display_name": "Python 3 (ipykernel)",
   "language": "python",
   "name": "python3"
  },
  "language_info": {
   "codemirror_mode": {
    "name": "ipython",
    "version": 3
   },
   "file_extension": ".py",
   "mimetype": "text/x-python",
   "name": "python",
   "nbconvert_exporter": "python",
   "pygments_lexer": "ipython3",
   "version": "3.10.9"
  }
 },
 "nbformat": 4,
 "nbformat_minor": 5
}
