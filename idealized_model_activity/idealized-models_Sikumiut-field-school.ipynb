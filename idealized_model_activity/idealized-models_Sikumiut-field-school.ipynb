{
 "cells": [
  {
   "cell_type": "code",
   "execution_count": null,
   "id": "fb394929-e2f6-4eea-bd8f-dc59e6f30c37",
   "metadata": {},
   "outputs": [],
   "source": [
    "import numpy as np\n",
    "import matplotlib.pyplot as plt\n",
    "import SCM_MEBM as scm_mebm\n",
    "import matplotlib as mpl"
   ]
  },
  {
   "cell_type": "code",
   "execution_count": null,
   "id": "7127a9df-dc06-4ca0-af2a-dbd1532fac97",
   "metadata": {},
   "outputs": [],
   "source": [
    "mpl.rcParams['axes.titlesize']        = 14 \n",
    "mpl.rcParams['legend.fontsize']       = 14  \n",
    "mpl.rcParams['legend.title_fontsize'] = 14  \n",
    "mpl.rcParams['xtick.labelsize']       = 14  \n",
    "mpl.rcParams['ytick.labelsize']       = 14  \n",
    "mpl.rcParams['axes.labelsize']        = 14 "
   ]
  },
  {
   "cell_type": "code",
   "execution_count": null,
   "id": "81db0aa0-eff1-4073-9716-1eab9b6fb177",
   "metadata": {},
   "outputs": [],
   "source": [
    "# --- set up grid and time-stepping ---\n",
    "\n",
    "n   = 120                           # number of grid points \n",
    "dx  = 2./n                          # width of grid box\n",
    "x   = np.linspace(-1+dx/2,1-dx/2,n) # native grid\n",
    "xb  = np.linspace(-1+dx,1-dx,n-1)   # boundaries of grid\n",
    "nt  = 1000                          # number of timesteps\n",
    "dur = 100                           # length of simulation in years\n",
    "dt  = 1./nt                         # timestep in years\n",
    "Rf  = 0                             # radiative forcing value\n",
    "\n",
    "grid = {'n': n, 'dx': dx, 'x': x, 'xb': xb, 'nt': nt, 'dur': dur, 'dt': dt} \n",
    "\n",
    "Ti  = 7.5+20*(1-2*x**2)             # initial condition \n",
    "\n",
    "# --- run the SCM-MEBM ---\n",
    "\n",
    "time, Ts_ctrl, Hi_ctrl, Sw_ctrl = scm_mebm.model(grid, Ti, F = Rf, sea_ice_albedo = 'on', sea_ice_thermodynamics = 'on')"
   ]
  },
  {
   "cell_type": "code",
   "execution_count": null,
   "id": "6c3277dd-40df-49d7-9c91-088736eeef9a",
   "metadata": {},
   "outputs": [],
   "source": [
    "# --- process model output ---\n",
    "\n",
    "# extract Northern Hemisphere output\n",
    "n_2   = int(n/2)+1                 # number of grid points in the Northern Hemisphere\n",
    "x_n   = x[-n_2:]                   # sine of latitude\n",
    "lat_n = np.rad2deg(np.arcsin(x_n)) # latitude\n",
    "Ts_ctrl = Ts_ctrl[-n_2:,:]         # surface temperature \n",
    "Hi_ctrl = Hi_ctrl[-n_2:,:]         # sea ice thickness"
   ]
  },
  {
   "cell_type": "markdown",
   "id": "959bde13-6ef3-4606-81c2-b398a003c291",
   "metadata": {},
   "source": [
    "## Make some plots of the control experiment"
   ]
  },
  {
   "cell_type": "code",
   "execution_count": null,
   "id": "f05d87ac-2d88-4ea5-a81d-1effb2875500",
   "metadata": {},
   "outputs": [],
   "source": [
    "# convert time from idealized model into months for plotting [ assume each month has 30 days ]\n",
    "xticks = np.arange(15,360,30)/360\n",
    "xtick_labels = np.array(['J','F','M','A','M','J','J','A','S','O','N','D'])\n",
    "\n",
    "# --- plot the seasonal data for the whole Northern Hemisphere ---\n",
    "\n",
    "fig = plt.figure(figsize=(12,8))\n",
    "\n",
    "# plot seasonal surface temperature\n",
    "plt.subplot(221)\n",
    "clevsh = np.linspace(-20,20,11)\n",
    "plt.contourf(time,lat_n,Ts_ctrl,clevsh,cmap='viridis',extend='both')\n",
    "cb = plt.colorbar()\n",
    "cb.set_label('Surface temperature [ °C ]')\n",
    "plt.xticks(xticks,xtick_labels)\n",
    "plt.xlabel('Month')\n",
    "plt.ylabel('Latitude')\n",
    "plt.ylim(0,np.max(lat_n))\n",
    "plt.yticks([0,25,50,75],['0°','25°N','50°N','75°N'])\n",
    "\n",
    "# plot seasonal sea ice thickness\n",
    "plt.subplot(222)\n",
    "clevsh = np.linspace(0,2,11)\n",
    "plt.contourf(time,lat_n,Hi_ctrl,clevsh,extend='max',cmap='Blues_r')\n",
    "cb = plt.colorbar()\n",
    "cb.set_label('Sea ice thickness [ m ]')\n",
    "# plot the ice edge\n",
    "plt.contour(time,lat_n,Hi_ctrl,[0],colors='C3')\n",
    "plt.xticks(xticks,xtick_labels)\n",
    "plt.xlabel('Month')\n",
    "plt.ylabel('Latitude')\n",
    "plt.ylim(0,np.max(lat_n))\n",
    "plt.yticks([0,25,50,75],['0°','25°N','50°N','75°N'])\n",
    "\n",
    "# plot surface temperature profiles - averaged by latitude\n",
    "plt.subplot(223)\n",
    "Annual, = plt.plot(lat_n,np.nanmean(Ts_ctrl[:,:],axis=1),'k',label='Annual',lw=2)\n",
    "\n",
    "# 500:750 corresponds to June, July, August\n",
    "Summer, = plt.plot(lat_n,np.nanmean(Ts_ctrl[:,500:750],axis=1),'k--',label='Summer',lw=2)\n",
    "\n",
    "# 0:250 corresponds to January, February, March\n",
    "Winter, = plt.plot(lat_n,np.nanmean(Ts_ctrl[:,0:250],axis=1),'k:',label='Winter',lw=2)\n",
    "\n",
    "plt.xticks([0,25,50,75],['0°','25°N','50°N','75°N'])\n",
    "plt.xlim(0,np.max(lat_n))\n",
    "plt.ylim(-30,30)\n",
    "plt.yticks([-30,-15,0,15,30])\n",
    "plt.xlabel('Latitude')\n",
    "plt.ylabel('Surface temperature [ °C ]')\n",
    "plt.legend(handles = [Annual,Summer,Winter],loc=0)\n",
    "plt.grid()\n",
    "\n",
    "# plot sea ice thickness profiles - averaged by latitude\n",
    "plt.subplot(224)\n",
    "plt.plot(lat_n,np.nanmean(Hi_ctrl[:,:],axis=1),'k',label='Annual',lw=2)\n",
    "\n",
    "# 500:750 corresponds to June, July, August\n",
    "plt.plot(lat_n,np.nanmean(Hi_ctrl[:,500:750],axis=1),'k--',lw=2)\n",
    "\n",
    "# 0:250 corresponds to January, February, March\n",
    "plt.plot(lat_n,np.nanmean(Hi_ctrl[:,0:250],axis=1),'k:',lw=2)\n",
    "\n",
    "plt.ylim([0,4])\n",
    "plt.yticks([0,1,2,3,4])\n",
    "plt.xticks([45,60,75,90],['45°N','60°N','75°N','90°N'])\n",
    "plt.xlim(45,np.max(lat_n))\n",
    "plt.xlabel('Latitude')\n",
    "plt.ylabel('Sea ice thickness [ m ]')\n",
    "plt.grid()\n",
    "\n",
    "plt.rcParams.update({'font.size': 14})\n",
    "\n",
    "plt.tight_layout() \n",
    "plt.savefig('figures/fig1.pdf',bbox_inches='tight')"
   ]
  },
  {
   "cell_type": "markdown",
   "id": "afb989db-097b-42dd-86e3-bfae84be2b0c",
   "metadata": {},
   "source": [
    "## Model output at Utqiagvik, Alaska"
   ]
  },
  {
   "cell_type": "code",
   "execution_count": null,
   "id": "d83a8d90-e701-49f9-8294-2d7a13a85a6f",
   "metadata": {},
   "outputs": [],
   "source": [
    "# print data for Utqiagvik, Alaska (71.3°N) around April 7-11. This corresponds to t = 0.27 and x = 0.95 or lat = 71.3\n",
    "print(\"--- April 7-11 in Utqiagvik, Alaska --- \\n\")\n",
    "\n",
    "value_time = 0.27  # Time of year that in the idealized model corresponds to April 7-11\n",
    "value_loc  = 71.3  # Latitude of Utqiagvik, Alaska\n",
    "\n",
    "# get index for this date\n",
    "ind_time = np.argmin(np.abs(time - value_time))\n",
    "# get index for this location\n",
    "ind_loc  = np.argmin(np.abs(lat_n - value_loc))\n",
    "\n",
    "# print surface temperature and sea ice thickness values\n",
    "print(\"Surface temperature: \" + str(np.round(Ts_ctrl[ind_loc,ind_time],2))+\" °C \\n\")\n",
    "print(\"Sea ice thickness: \"   + str(np.round(Hi_ctrl[ind_loc,ind_time],2))+\" m\")"
   ]
  },
  {
   "cell_type": "code",
   "execution_count": null,
   "id": "5496c42c-e433-4f9e-bbd3-dd01b701fffe",
   "metadata": {},
   "outputs": [],
   "source": [
    "# convert time into months for plotting [ assume each month has 30 days ]\n",
    "xticks = np.arange(15,360,30)/360\n",
    "xtick_labels = np.array(['J','F','M','A','M','J','J','A','S','O','N','D'])\n",
    "\n",
    "fig = plt.figure(figsize=(12,6))\n",
    "\n",
    "# plot the seasonal cycle of surface temperature in Utqiagvik, AK\n",
    "plt.subplot(121)\n",
    "plt.plot(time,Ts_ctrl[ind_loc,:],lw=2)\n",
    "plt.plot(time[ind_time],Ts_ctrl[ind_loc,ind_time],'o',markeredgecolor='white',markersize=10,markerfacecolor='C3')\n",
    "plt.xticks(xticks,xtick_labels)\n",
    "plt.xlabel('Month')\n",
    "plt.ylim(-27,12)\n",
    "plt.yticks(np.arange(-24,10,3))\n",
    "plt.ylabel('Surface temperature [ °C ]')\n",
    "plt.grid()\n",
    "\n",
    "# plot the seasonal cycle of sea ice thickness in Utqiagvik, AK\n",
    "plt.subplot(122)\n",
    "plt.plot(time,Hi_ctrl[ind_loc,:],lw=2)\n",
    "plt.plot(time[ind_time],Hi_ctrl[ind_loc,ind_time],'o',markeredgecolor='white',markersize=10,markerfacecolor='C3')\n",
    "plt.xticks(xticks,xtick_labels)\n",
    "plt.xlabel('Month')\n",
    "plt.ylim(-0.2,2.4)\n",
    "plt.yticks(np.arange(0,2.4,0.2))\n",
    "plt.ylabel('Sea ice thickness [ m ]')\n",
    "plt.grid()\n",
    "\n",
    "plt.suptitle('Utqiagvik, Alaska (71.3°N)',fontsize=14)\n",
    "\n",
    "plt.rcParams.update({'font.size': 14})\n",
    "\n",
    "plt.tight_layout() \n",
    "plt.savefig('figures/fig2.pdf',bbox_inches='tight')"
   ]
  },
  {
   "cell_type": "code",
   "execution_count": null,
   "id": "42cd0dea-cea4-40c0-98df-06274d894a5b",
   "metadata": {},
   "outputs": [],
   "source": [
    "# --- Enter YOUR code for Questions 3-7 ---"
   ]
  },
  {
   "cell_type": "code",
   "execution_count": null,
   "id": "6838afdb-986a-4287-a2e9-d56914cc2b8f",
   "metadata": {},
   "outputs": [],
   "source": [
    "# --- Enter YOUR code for Questions 3-7 ---"
   ]
  },
  {
   "cell_type": "code",
   "execution_count": null,
   "id": "dcd72ee6-cf4e-45d7-8e0b-fc23c301b7c8",
   "metadata": {},
   "outputs": [],
   "source": [
    "# --- Enter YOUR code for Questions 3-7 ---"
   ]
  }
 ],
 "metadata": {
  "kernelspec": {
   "display_name": "Python 3 (ipykernel)",
   "language": "python",
   "name": "python3"
  },
  "language_info": {
   "codemirror_mode": {
    "name": "ipython",
    "version": 3
   },
   "file_extension": ".py",
   "mimetype": "text/x-python",
   "name": "python",
   "nbconvert_exporter": "python",
   "pygments_lexer": "ipython3",
   "version": "3.10.13"
  }
 },
 "nbformat": 4,
 "nbformat_minor": 5
}
